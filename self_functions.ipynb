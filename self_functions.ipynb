{
 "cells": [
  {
   "cell_type": "code",
   "execution_count": 1,
   "metadata": {},
   "outputs": [
    {
     "data": {
      "text/plain": [
       "'C:\\\\Users\\\\nirup\\\\Downloads\\\\pipeline'"
      ]
     },
     "execution_count": 1,
     "metadata": {},
     "output_type": "execute_result"
    }
   ],
   "source": [
    "import os\n",
    "os.getcwd()"
   ]
  },
  {
   "cell_type": "code",
   "execution_count": 2,
   "metadata": {},
   "outputs": [],
   "source": [
    "import requests\n",
    "from bs4 import BeautifulSoup\n",
    "import re\n",
    "import nltk\n",
    "import html2text\n",
    "import pandas as pd\n",
    "from nltk import word_tokenize, pos_tag"
   ]
  },
  {
   "cell_type": "code",
   "execution_count": 3,
   "metadata": {},
   "outputs": [],
   "source": [
    "def word_count(list):\n",
    "    word_count=[]\n",
    "    for i in list:\n",
    "        word_count.append(str(len(i.split())))\n",
    "    return  word_count"
   ]
  },
  {
   "cell_type": "code",
   "execution_count": 4,
   "metadata": {},
   "outputs": [],
   "source": [
    "def hasNumber(stringVal):\n",
    "    re_numbers = re.compile('\\d')\n",
    "    return 0 if (re_numbers.search(stringVal) == None) else 1\n",
    "def digit_present(list):\n",
    "    digit_present=[]\n",
    "    for i in list:\n",
    "        digit_present.append(hasNumber(i))\n",
    "    return digit_present\n",
    "    "
   ]
  },
  {
   "cell_type": "code",
   "execution_count": 5,
   "metadata": {},
   "outputs": [],
   "source": [
    "def digit_count(list):\n",
    "    digit_count=[]\n",
    "    for i in list:\n",
    "        digit_count.append(sum(c.isdigit() for c in i))\n",
    "    return digit_count"
   ]
  },
  {
   "cell_type": "code",
   "execution_count": 6,
   "metadata": {},
   "outputs": [],
   "source": [
    "def n_count(list):\n",
    "    n_count=[]\n",
    "    for i in list:\n",
    "        n_count.append(sum(1 for word, pos in pos_tag(word_tokenize(i)) if pos.startswith(\"NN\")))\n",
    "    return  n_count"
   ]
  },
  {
   "cell_type": "code",
   "execution_count": 7,
   "metadata": {},
   "outputs": [],
   "source": [
    "def v_count(list):\n",
    "    v_count=[]\n",
    "    for i in list:\n",
    "        v_count.append(sum(1 for word, pos in pos_tag(word_tokenize(i)) if pos.startswith(\"VB\")))\n",
    "    return  v_count"
   ]
  },
  {
   "cell_type": "code",
   "execution_count": 8,
   "metadata": {},
   "outputs": [],
   "source": [
    "def unit_count(list):\n",
    "    unit_count=[]\n",
    "    measure_dict  = [\"teaspoon\",\"tablespoon\",\"tablespoons\",\"tblspn\",\"inch\",\"cups\",\"cup\",\"tbsps\",\"tbsp\",\"tsp\",\"slices\",\"slice\",\"grams\",\"litre\",\"litres\",\"medium\",\"small\"]\n",
    "    for data in list:\n",
    "        for sent in measure_dict :\n",
    "            c =  0\n",
    "            if sent in data:\n",
    "                c = 1\n",
    "                break\n",
    "        unit_count.append(c)\n",
    "    return unit_count\n"
   ]
  },
  {
   "cell_type": "code",
   "execution_count": null,
   "metadata": {},
   "outputs": [],
   "source": []
  },
  {
   "cell_type": "code",
   "execution_count": null,
   "metadata": {},
   "outputs": [],
   "source": []
  },
  {
   "cell_type": "code",
   "execution_count": null,
   "metadata": {},
   "outputs": [],
   "source": []
  }
 ],
 "metadata": {
  "kernelspec": {
   "display_name": "Python 3",
   "language": "python",
   "name": "python3"
  },
  "language_info": {
   "codemirror_mode": {
    "name": "ipython",
    "version": 3
   },
   "file_extension": ".py",
   "mimetype": "text/x-python",
   "name": "python",
   "nbconvert_exporter": "python",
   "pygments_lexer": "ipython3",
   "version": "3.7.4"
  }
 },
 "nbformat": 4,
 "nbformat_minor": 5
}
